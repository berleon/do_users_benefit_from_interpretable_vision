{
 "cells": [
  {
   "cell_type": "markdown",
   "id": "137b5482-58c2-4b68-9b16-dbd5a688e821",
   "metadata": {},
   "source": [
    "# Example how to load the model and create the baseline explanation"
   ]
  },
  {
   "cell_type": "code",
   "execution_count": null,
   "id": "724b43ea-a8b0-4501-b32e-5695d5e144bd",
   "metadata": {},
   "outputs": [],
   "source": [
    "from dubfiv import train\n",
    "from dubfiv import analysis as analysis_mod"
   ]
  },
  {
   "cell_type": "code",
   "execution_count": null,
   "id": "5d373dc5-a368-449d-b44c-10ec8705d559",
   "metadata": {},
   "outputs": [],
   "source": [
    "# Run this script to download datasets and model weights:\n",
    "# ./download_artifacts.sh"
   ]
  },
  {
   "cell_type": "code",
   "execution_count": null,
   "id": "68125193-8873-4beb-a0c9-a2917881d5de",
   "metadata": {},
   "outputs": [],
   "source": [
    "analysis = analysis_mod.Analysis.from_checkpoint('do_users_benefit_from_interpretable_vision_model/')"
   ]
  },
  {
   "cell_type": "code",
   "execution_count": null,
   "id": "0d932eb0-2320-4068-863d-d5417ee353a3",
   "metadata": {},
   "outputs": [],
   "source": [
    "baseline = analysis_mod.Baseline(\n",
    "    analysis,\n",
    "    analysis.treatment,\n",
    ")"
   ]
  },
  {
   "cell_type": "code",
   "execution_count": null,
   "id": "295dc062-bea6-43be-ada5-0c8d50358907",
   "metadata": {},
   "outputs": [],
   "source": [
    "baseline_results = baseline(show=True, sync=False)"
   ]
  }
 ],
 "metadata": {
  "kernelspec": {
   "display_name": "Python 3.9 (DUBFIV)",
   "language": "python",
   "name": "python3"
  },
  "language_info": {
   "codemirror_mode": {
    "name": "ipython",
    "version": 3
   },
   "file_extension": ".py",
   "mimetype": "text/x-python",
   "name": "python",
   "nbconvert_exporter": "python",
   "pygments_lexer": "ipython3",
   "version": "3.9.2"
  }
 },
 "nbformat": 4,
 "nbformat_minor": 5
}
